{
 "cells": [
  {
   "cell_type": "code",
   "execution_count": 1,
   "metadata": {
    "collapsed": false
   },
   "outputs": [
    {
     "name": "stdout",
     "output_type": "stream",
     "text": [
      "Populating the interactive namespace from numpy and matplotlib\n"
     ]
    }
   ],
   "source": [
    "%pylab inline\n",
    "import sklearn\n",
    "import sklearn.mixture"
   ]
  },
  {
   "cell_type": "code",
   "execution_count": 9,
   "metadata": {
    "collapsed": false
   },
   "outputs": [
    {
     "name": "stdout",
     "output_type": "stream",
     "text": [
      "['09', '10', '11', '12', '13', '14', '15']\n"
     ]
    },
    {
     "data": {
      "image/png": "[encoded data removed]",
      "text/plain": [
       "<matplotlib.figure.Figure at 0xb50c6a0>"
      ]
     },
     "metadata": {},
     "output_type": "display_data"
    }
   ],
   "source": [
    "L = []\n",
    "Good = map(str, range(9,16)) # od 9 do 15\n",
    "Good[0] = '09'\n",
    "print Good\n",
    "for ff in open('OrderBookSnapshots.csv'):\n",
    "    pre, tail = ff.split('BID')\n",
    "    if pre.split()[1][:2] not in Good:\n",
    "        continue\n",
    "    mid, post = tail.split('ASK')\n",
    "    mid = map(float, mid.split())\n",
    "    mid = array(zip(mid[::2], mid[1::2]))\n",
    "    post = map(float, post.split())\n",
    "    post = array(zip(post[::2], post[1::2]))\n",
    "    L.append((mid,post))\n",
    "L = array(L) # czyste dane\n",
    "P = array(map(lambda x : (x[0].max(axis=0)[0]+x[1].min(axis=0)[0])/2,L)) # P to lista cen\n",
    "plot(P)\n",
    "dif = (P[:-1]-P[1:])\n",
    "dif = dif.reshape(-1,1) # różnice cen"
   ]
  },
  {
   "cell_type": "code",
   "execution_count": 12,
   "metadata": {
    "collapsed": false
   },
   "outputs": [],
   "source": [
    "def X1(D):\n",
    "    return array(([D[0][-2], D[0][-1],D[1][0], D[1][1]])).reshape((8))\n",
    "\n",
    "X1 = array(map(X1,L[:-1]))\n",
    "n,d = X1.shape\n",
    "A1 = zeros((n,3))\n",
    "\n",
    "A1[(dif>0.5).reshape(n), 0] = 1\n",
    "A1[((dif<=0.5)*(dif>=-0.5)).reshape(n), 1] = 1\n",
    "A1[(dif<-0.5).reshape(n), 2] = 1\n",
    "\n",
    "save('X1', X1)\n",
    "save('A1', A)"
   ]
  },
  {
   "cell_type": "code",
   "execution_count": null,
   "metadata": {
    "collapsed": true
   },
   "outputs": [],
   "source": []
  }
 ],
 "metadata": {
  "kernelspec": {
   "display_name": "Python 2",
   "language": "python",
   "name": "python2"
  },
  "language_info": {
   "codemirror_mode": {
    "name": "ipython",
    "version": 2
   },
   "file_extension": ".py",
   "mimetype": "text/x-python",
   "name": "python",
   "nbconvert_exporter": "python",
   "pygments_lexer": "ipython2",
   "version": "2.7.13"
  }
 },
 "nbformat": 4,
 "nbformat_minor": 2
}
